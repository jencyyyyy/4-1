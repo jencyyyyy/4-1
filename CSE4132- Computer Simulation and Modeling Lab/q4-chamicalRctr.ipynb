{
 "cells": [
  {
   "cell_type": "code",
   "execution_count": 16,
   "metadata": {},
   "outputs": [],
   "source": [
    "import matplotlib.pyplot as plt\n",
    "from pygame.locals import *\n"
   ]
  },
  {
   "cell_type": "code",
   "execution_count": null,
   "metadata": {},
   "outputs": [],
   "source": [
    "def chemical_reactor(A, B, C, k1, k2, end_time, dt): \n",
    "    time = 0\n",
    "    substance_A = []\n",
    "    substance_B = []\n",
    "    substance_C = []\n",
    "    time_points = []\n",
    "\n",
    "    while (time <= end_time):\n",
    "        substance_A.append(A)\n",
    "        substance_B.append(B)\n",
    "        substance_C.append(C)\n",
    "        time_points.append(time)\n",
    "        time += dt\n",
    "\n",
    "        A += (k2 * C - k1 * A * B) * dt\n",
    "        B += (k2 * C - k1 * A * B) * dt\n",
    "        C += (2 * k1 * A * B - 2 * k2 * C) * dt\n",
    "        \n",
    "        plt.clf()\n",
    "        plt.title(\"Simulation of a Chemical Reactor\")\n",
    "        plt.xlabel(\"Time (s)\")\n",
    "        plt.ylabel(\"Quantity (gm)\")\n",
    "        plt.xlim(0, end_time)\n",
    "        plt.plot(time_points, substance_A, label = \"Substance A\")\n",
    "        plt.plot(time_points, substance_B, label = \"Substance B\")\n",
    "        plt.plot(time_points, substance_C, label = \"Substance C\")\n",
    "        plt.legend()\n",
    "        plt.grid()\n",
    "        plt.pause(0.001)\n",
    "        \n",
    "    plt.show()\n",
    "\n"
   ]
  },
  {
   "cell_type": "code",
   "execution_count": null,
   "metadata": {},
   "outputs": [],
   "source": [
    "chemical_reactor(100, 50, 0, 0.008, 0.002, 10, 0.1)\n"
   ]
  },
  {
   "cell_type": "code",
   "execution_count": null,
   "metadata": {},
   "outputs": [],
   "source": []
  }
 ],
 "metadata": {
  "kernelspec": {
   "display_name": "Python 3",
   "language": "python",
   "name": "python3"
  },
  "language_info": {
   "codemirror_mode": {
    "name": "ipython",
    "version": 3
   },
   "file_extension": ".py",
   "mimetype": "text/x-python",
   "name": "python",
   "nbconvert_exporter": "python",
   "pygments_lexer": "ipython3",
   "version": "3.10.0"
  }
 },
 "nbformat": 4,
 "nbformat_minor": 2
}
