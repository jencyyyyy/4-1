{
 "cells": [
  {
   "cell_type": "code",
   "execution_count": 1,
   "metadata": {},
   "outputs": [
    {
     "name": "stdout",
     "output_type": "stream",
     "text": [
      "0\t3\t6\t9\t2\t5\t8\t1\t4\t7\t0\t3\t6\t"
     ]
    }
   ],
   "source": [
    "mul_C = int(input(\"Enter Multiplicative value: \"))\n",
    "add_C = int(input(\"Enter Additive value: \"))\n",
    "Seed = int(input(\"Enter Seed value: \"))\n",
    "mod = int(input(\"Enter Mod value: \"))\n",
    "iteration = int(input(\"No of iteration: \"))\n",
    "\n",
    "#a=1,b=3,c=0,M=10\n",
    "#a=2,b=1,c=0,M=10 \n",
    "\n",
    "x = Seed\n",
    "for i in range(iteration):\n",
    "    print(x, end=\"\\t\")\n",
    "    x = (mul_C * x + add_C) % mod"
   ]
  },
  {
   "cell_type": "markdown",
   "metadata": {},
   "source": [
    " a  b c  M  x0 x1 x2 x3 x4 x5 x6 x7 x8 x9 x10 x11 x12 \n"
   ]
  },
  {
   "cell_type": "markdown",
   "metadata": {},
   "source": [
    " 1  3 0 10   0  3  6  9  2  5  8  1  4  7   0  3    6 \n"
   ]
  },
  {
   "cell_type": "markdown",
   "metadata": {},
   "source": [
    " 2  1 0 10   0  1  3  7  5  1  3  7  5  1   3  7    5 \n"
   ]
  },
  {
   "cell_type": "markdown",
   "metadata": {},
   "source": [
    "22  1 0 72   0  1 23  3 67 35 51 43 11  27  19  59  3 \n"
   ]
  },
  {
   "cell_type": "markdown",
   "metadata": {},
   "source": [
    "11 37 1 100  1 48 65 52  9 36 33  0 37  44  21  68 85 \n"
   ]
  },
  {
   "cell_type": "markdown",
   "metadata": {},
   "source": [
    "8  20 10 100 10  0 20 80 60  0 20 80 60  0  20  80 60"
   ]
  }
 ],
 "metadata": {
  "kernelspec": {
   "display_name": "Python 3",
   "language": "python",
   "name": "python3"
  },
  "language_info": {
   "codemirror_mode": {
    "name": "ipython",
    "version": 3
   },
   "file_extension": ".py",
   "mimetype": "text/x-python",
   "name": "python",
   "nbconvert_exporter": "python",
   "pygments_lexer": "ipython3",
   "version": "3.10.0"
  }
 },
 "nbformat": 4,
 "nbformat_minor": 2
}
